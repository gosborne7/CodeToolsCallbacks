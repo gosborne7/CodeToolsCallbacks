{
  "nbformat": 4,
  "nbformat_minor": 0,
  "metadata": {
    "colab": {
      "name": "Callbacks.ipynb",
      "provenance": []
    },
    "kernelspec": {
      "name": "python3",
      "display_name": "Python 3"
    },
    "language_info": {
      "name": "python"
    },
    "accelerator": "GPU"
  },
  "cells": [
    {
      "cell_type": "code",
      "execution_count": null,
      "metadata": {
        "id": "d80LVFNqZF0M"
      },
      "outputs": [],
      "source": [
        ""
      ]
    },
    {
      "cell_type": "markdown",
      "source": [
        "#Available Callbacks:\n",
        "\n",
        "###Base Callback class\n",
        "###ModelCheckpoint\n",
        "###TensorBoard\n",
        "###EarlyStopping\n",
        "###LearningRateScheduler\n",
        "###ReduceLROnPlateau\n",
        "###RemoteMonitor\n",
        "###LambdaCallback\n",
        "###TerminateOnNaN\n",
        "###CSVLogger\n",
        "###ProgbarLogger"
      ],
      "metadata": {
        "id": "no7j1uG7axo9"
      }
    },
    {
      "cell_type": "code",
      "source": [
        "import numpy as np\n",
        "import tensorflow as tf\n",
        "from tensorflow import keras\n",
        "from tensorflow.keras.models import Sequential\n",
        "from tensorflow.keras.layers import Activation, Dense, Flatten, BatchNormalization, Conv2D, MaxPooling2D, Dropout\n",
        "from tensorflow.keras.datasets import mnist\n",
        "from tensorflow.keras.optimizers import Adam\n",
        "import matplotlib.pyplot as plt"
      ],
      "metadata": {
        "id": "7ten_bjafcHj"
      },
      "execution_count": null,
      "outputs": []
    }
  ]
}